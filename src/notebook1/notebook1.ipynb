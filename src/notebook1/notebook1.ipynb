{
 "cells": [
  {
   "cell_type": "markdown",
   "id": "ac0726e4",
   "metadata": {},
   "source": [
    "# Notebook 1\n",
    "\n",
    "This is an example Notebook."
   ]
  },
  {
   "cell_type": "code",
   "execution_count": 5,
   "id": "f5c068c8",
   "metadata": {},
   "outputs": [],
   "source": [
    "import template_ipynb\n"
   ]
  },
  {
   "cell_type": "code",
   "execution_count": 6,
   "id": "9524dd95",
   "metadata": {},
   "outputs": [],
   "source": [
    "from template_ipynb import main\n"
   ]
  },
  {
   "cell_type": "code",
   "execution_count": 7,
   "id": "68f2b660",
   "metadata": {},
   "outputs": [
    {
     "data": {
      "text/plain": [
       "'Hello from template-ipynb!'"
      ]
     },
     "execution_count": 7,
     "metadata": {},
     "output_type": "execute_result"
    }
   ],
   "source": [
    "template_ipynb.hello()\n"
   ]
  },
  {
   "cell_type": "code",
   "execution_count": 8,
   "id": "24654479",
   "metadata": {},
   "outputs": [
    {
     "name": "stdout",
     "output_type": "stream",
     "text": [
      "Hello from template-ipynb!\n"
     ]
    }
   ],
   "source": [
    "main()\n"
   ]
  }
 ],
 "metadata": {
  "kernelspec": {
   "display_name": "template-ipynb (3.13.5)",
   "language": "python",
   "name": "python3"
  },
  "language_info": {
   "codemirror_mode": {
    "name": "ipython",
    "version": 3
   },
   "file_extension": ".py",
   "mimetype": "text/x-python",
   "name": "python",
   "nbconvert_exporter": "python",
   "pygments_lexer": "ipython3",
   "version": "3.13.5"
  }
 },
 "nbformat": 4,
 "nbformat_minor": 5
}
