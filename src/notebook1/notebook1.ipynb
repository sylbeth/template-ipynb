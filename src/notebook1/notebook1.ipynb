{
 "cells": [
  {
   "cell_type": "markdown",
   "id": "ac0726e4",
   "metadata": {},
   "source": [
    "# Notebook 1\n",
    "\n",
    "This is an example Notebook."
   ]
  },
  {
   "cell_type": "code",
   "execution_count": null,
   "id": "f5c068c8",
   "metadata": {},
   "outputs": [],
   "source": [
    "import notebook1"
   ]
  },
  {
   "cell_type": "code",
   "execution_count": null,
   "id": "9524dd95",
   "metadata": {},
   "outputs": [],
   "source": [
    "from notebook1 import main"
   ]
  },
  {
   "cell_type": "code",
   "execution_count": null,
   "id": "68f2b660",
   "metadata": {},
   "outputs": [],
   "source": [
    "notebook1.hello()"
   ]
  },
  {
   "cell_type": "code",
   "execution_count": null,
   "id": "24654479",
   "metadata": {},
   "outputs": [],
   "source": [
    "main()"
   ]
  }
 ],
 "metadata": {
  "kernelspec": {
   "display_name": "template-ipynb (3.13.5)",
   "language": "python",
   "name": "python3"
  },
  "language_info": {
   "codemirror_mode": {
    "name": "ipython",
    "version": 3
   },
   "file_extension": ".py",
   "mimetype": "text/x-python",
   "name": "python",
   "nbconvert_exporter": "python",
   "pygments_lexer": "ipython3",
   "version": "3.13.5"
  }
 },
 "nbformat": 4,
 "nbformat_minor": 5
}
